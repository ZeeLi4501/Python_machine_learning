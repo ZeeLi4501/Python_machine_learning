{
 "cells": [
  {
   "cell_type": "code",
   "execution_count": 1,
   "id": "611421e2",
   "metadata": {},
   "outputs": [],
   "source": [
    "import numpy as np\n",
    "import pandas as pd\n",
    "import os\n",
    "import matplotlib.pyplot as plt"
   ]
  },
  {
   "cell_type": "code",
   "execution_count": 2,
   "id": "0a833810",
   "metadata": {},
   "outputs": [],
   "source": [
    "os.chdir('C:/Users/Administrator/Desktop/ICC machine learning')\n",
    "data = pd.read_csv('Final project.csv', index_col=0 , error_bad_lines = False)"
   ]
  },
  {
   "cell_type": "code",
   "execution_count": 3,
   "id": "cb14c692",
   "metadata": {},
   "outputs": [],
   "source": [
    "data = data.dropna(axis=0, how='any', thresh=None, subset=None, inplace=False)\n"
   ]
  },
  {
   "cell_type": "code",
   "execution_count": 4,
   "id": "15bd8d2f",
   "metadata": {
    "scrolled": true
   },
   "outputs": [
    {
     "name": "stdout",
     "output_type": "stream",
     "text": [
      "Loan_ID\n",
      "LP001003    N\n",
      "LP001005    Y\n",
      "LP001006    Y\n",
      "LP001008    Y\n",
      "LP001011    Y\n",
      "           ..\n",
      "LP002978    Y\n",
      "LP002979    Y\n",
      "LP002983    Y\n",
      "LP002984    Y\n",
      "LP002990    N\n",
      "Name: Loan_Status, Length: 480, dtype: object\n"
     ]
    }
   ],
   "source": [
    "df = pd.DataFrame(data)\n",
    "data.shape\n",
    "print(data.Loan_Status)\n",
    "data= pd.get_dummies(data, columns=['Gender'],dummy_na=True)\n",
    "data= pd.get_dummies(data, columns=['Married'],dummy_na=True)\n",
    "data= pd.get_dummies(data, columns=['Education'],dummy_na=True)\n",
    "data= pd.get_dummies(data, columns=['Self_Employed'],dummy_na=True)\n",
    "data= pd.get_dummies(data, columns=['Property_Area'],dummy_na=True)\n",
    "\n",
    "data.Dependents = data.Dependents.fillna(0)\n",
    "data.LoanAmount = data.LoanAmount.fillna(0)\n",
    "data.Loan_Amount_Term = data.Loan_Amount_Term.fillna(0)\n",
    "data.Credit_History = data.Credit_History.fillna(0)\n"
   ]
  },
  {
   "cell_type": "code",
   "execution_count": 5,
   "id": "5759441f",
   "metadata": {},
   "outputs": [],
   "source": [
    "from sklearn.linear_model import LogisticRegression\n",
    "from sklearn.model_selection import train_test_split"
   ]
  },
  {
   "cell_type": "code",
   "execution_count": 6,
   "id": "2bd9b0bc",
   "metadata": {},
   "outputs": [],
   "source": [
    "data.Dependents=data.Dependents.replace(\"3+\",3)"
   ]
  },
  {
   "cell_type": "code",
   "execution_count": 7,
   "id": "e2c7f744",
   "metadata": {},
   "outputs": [],
   "source": [
    "data.Loan_Status=data.Loan_Status.replace(\"Y\",1)\n",
    "data.Loan_Status=data.Loan_Status.replace(\"N\",0)"
   ]
  },
  {
   "cell_type": "code",
   "execution_count": 8,
   "id": "ffc5328c",
   "metadata": {},
   "outputs": [],
   "source": [
    "data = data.dropna(axis=0, how='any', thresh=None, subset=None, inplace=False)\n",
    "X_train, X_test, y_train, y_test = train_test_split(data.drop(\"Loan_Status\",axis = 1), data.Loan_Status,\n",
    "                                                    stratify=data.Loan_Status,\n",
    "                                                    random_state=32,train_size = 0.70)"
   ]
  },
  {
   "cell_type": "code",
   "execution_count": 9,
   "id": "13ca0265",
   "metadata": {},
   "outputs": [],
   "source": [
    "def modeller(model , X_train , y_train , X_test , y_test):\n",
    "    m = model\n",
    "    m.fit(X_train , y_train)\n",
    "    \n",
    "    y_pred = m.predict(X_test)\n",
    "    \n",
    "    print(accuracy_score(y_test , y_pred))"
   ]
  },
  {
   "cell_type": "code",
   "execution_count": 10,
   "id": "22791c86",
   "metadata": {},
   "outputs": [
    {
     "data": {
      "text/plain": [
       "0.7291666666666666"
      ]
     },
     "execution_count": 10,
     "metadata": {},
     "output_type": "execute_result"
    }
   ],
   "source": [
    "from sklearn.svm import SVC\n",
    "from sklearn.metrics import accuracy_score\n",
    "\n",
    "model = SVC(C=10.0, kernel='linear')\n",
    "model.fit(X_train , y_train)\n",
    "\n",
    "y_pred = model.predict(X_test)\n",
    "\n",
    "accuracy_score(y_test , y_pred)\n"
   ]
  },
  {
   "cell_type": "code",
   "execution_count": 11,
   "id": "13d8e66a",
   "metadata": {},
   "outputs": [
    {
     "data": {
      "text/html": [
       "<div>\n",
       "<style scoped>\n",
       "    .dataframe tbody tr th:only-of-type {\n",
       "        vertical-align: middle;\n",
       "    }\n",
       "\n",
       "    .dataframe tbody tr th {\n",
       "        vertical-align: top;\n",
       "    }\n",
       "\n",
       "    .dataframe thead th {\n",
       "        text-align: right;\n",
       "    }\n",
       "</style>\n",
       "<table border=\"1\" class=\"dataframe\">\n",
       "  <thead>\n",
       "    <tr style=\"text-align: right;\">\n",
       "      <th></th>\n",
       "      <th>With Loan</th>\n",
       "      <th>No Loan</th>\n",
       "    </tr>\n",
       "  </thead>\n",
       "  <tbody>\n",
       "    <tr>\n",
       "      <th>With Loan</th>\n",
       "      <td>9</td>\n",
       "      <td>35</td>\n",
       "    </tr>\n",
       "    <tr>\n",
       "      <th>No Loan</th>\n",
       "      <td>4</td>\n",
       "      <td>96</td>\n",
       "    </tr>\n",
       "  </tbody>\n",
       "</table>\n",
       "</div>"
      ],
      "text/plain": [
       "           With Loan  No Loan\n",
       "With Loan          9       35\n",
       "No Loan            4       96"
      ]
     },
     "execution_count": 11,
     "metadata": {},
     "output_type": "execute_result"
    }
   ],
   "source": [
    "from sklearn.metrics import confusion_matrix\n",
    "loan_status=[\"With Loan\",\"No Loan\"]\n",
    "cm = (confusion_matrix(y_test,y_pred))\n",
    "cmdf = pd.DataFrame(cm,index=loan_status,\n",
    "                    columns=loan_status)\n",
    "cmdf"
   ]
  },
  {
   "cell_type": "code",
   "execution_count": 12,
   "id": "bd0f3ce8",
   "metadata": {},
   "outputs": [
    {
     "name": "stdout",
     "output_type": "stream",
     "text": [
      "0.7152777777777778\n",
      "0.6944444444444444\n"
     ]
    }
   ],
   "source": [
    "from sklearn.tree import DecisionTreeClassifier\n",
    "list_1 = [DecisionTreeClassifier() , SVC() ]\n",
    "for model_to_run in list_1:\n",
    "    modeller(model_to_run , X_train ,y_train , X_test , y_test)"
   ]
  },
  {
   "cell_type": "code",
   "execution_count": 13,
   "id": "67af6fc1",
   "metadata": {},
   "outputs": [
    {
     "name": "stdout",
     "output_type": "stream",
     "text": [
      "The classification report is as follows...\n",
      "\n",
      "              precision    recall  f1-score   support\n",
      "\n",
      "           0       0.69      0.20      0.32        44\n",
      "           1       0.73      0.96      0.83       100\n",
      "\n",
      "    accuracy                           0.73       144\n",
      "   macro avg       0.71      0.58      0.57       144\n",
      "weighted avg       0.72      0.73      0.67       144\n",
      "\n"
     ]
    }
   ],
   "source": [
    "from sklearn.metrics import classification_report\n",
    "\n",
    "print(\"The classification report is as follows...\\n\")\n",
    "print(classification_report(y_test, y_pred))"
   ]
  },
  {
   "cell_type": "code",
   "execution_count": 14,
   "id": "9fba5a5c",
   "metadata": {},
   "outputs": [
    {
     "data": {
      "text/plain": [
       "SVC(degree=10, kernel='poly')"
      ]
     },
     "execution_count": 14,
     "metadata": {},
     "output_type": "execute_result"
    }
   ],
   "source": [
    "from sklearn.svm import SVC\n",
    "svclassifier = SVC(kernel='poly', degree=10)\n",
    "svclassifier.fit(X_train, y_train)"
   ]
  },
  {
   "cell_type": "code",
   "execution_count": 15,
   "id": "48fa68da",
   "metadata": {},
   "outputs": [],
   "source": [
    "y_pred = svclassifier.predict(X_test)"
   ]
  },
  {
   "cell_type": "code",
   "execution_count": 16,
   "id": "1e3ea3df",
   "metadata": {},
   "outputs": [
    {
     "name": "stdout",
     "output_type": "stream",
     "text": [
      "[[ 5 39]\n",
      " [ 2 98]]\n",
      "              precision    recall  f1-score   support\n",
      "\n",
      "           0       0.71      0.11      0.20        44\n",
      "           1       0.72      0.98      0.83       100\n",
      "\n",
      "    accuracy                           0.72       144\n",
      "   macro avg       0.71      0.55      0.51       144\n",
      "weighted avg       0.72      0.72      0.63       144\n",
      "\n"
     ]
    }
   ],
   "source": [
    "from sklearn.metrics import classification_report, confusion_matrix\n",
    "print(confusion_matrix(y_test, y_pred))\n",
    "print(classification_report(y_test, y_pred))"
   ]
  },
  {
   "cell_type": "code",
   "execution_count": null,
   "id": "98d8f2f6",
   "metadata": {},
   "outputs": [],
   "source": []
  },
  {
   "cell_type": "code",
   "execution_count": null,
   "id": "814162c8",
   "metadata": {},
   "outputs": [],
   "source": []
  }
 ],
 "metadata": {
  "kernelspec": {
   "display_name": "Python 3",
   "language": "python",
   "name": "python3"
  },
  "language_info": {
   "codemirror_mode": {
    "name": "ipython",
    "version": 3
   },
   "file_extension": ".py",
   "mimetype": "text/x-python",
   "name": "python",
   "nbconvert_exporter": "python",
   "pygments_lexer": "ipython3",
   "version": "3.8.8"
  }
 },
 "nbformat": 4,
 "nbformat_minor": 5
}
