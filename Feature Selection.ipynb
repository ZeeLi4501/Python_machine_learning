{
 "cells": [
  {
   "cell_type": "code",
   "execution_count": 5,
   "id": "e99bf296",
   "metadata": {},
   "outputs": [],
   "source": [
    "import pandas as pd\n",
    "import numpy as np\n",
    "from sklearn.ensemble import RandomForestClassifier as RFC\n",
    "from sklearn.model_selection import cross_val_score as cvs\n",
    "from sklearn.feature_selection import SelectKBest\n",
    "from sklearn.feature_selection import chi2"
   ]
  },
  {
   "cell_type": "code",
   "execution_count": 6,
   "id": "0384bb1d",
   "metadata": {},
   "outputs": [],
   "source": [
    "data = pd.read_csv(r\"C:\\Users\\Administrator\\Desktop\\Machine Learning\\Data preprocessing\\digit recognizer\\train.csv\")"
   ]
  },
  {
   "cell_type": "code",
   "execution_count": 7,
   "id": "b2483e9a",
   "metadata": {},
   "outputs": [],
   "source": [
    "x = data.iloc[:,1:]\n",
    "y = data.iloc[:,0]"
   ]
  },
  {
   "cell_type": "code",
   "execution_count": 8,
   "id": "8568bfad",
   "metadata": {},
   "outputs": [],
   "source": [
    "from sklearn.feature_selection import VarianceThreshold"
   ]
  },
  {
   "cell_type": "code",
   "execution_count": 9,
   "id": "6a4537fb",
   "metadata": {},
   "outputs": [],
   "source": [
    "X = VarianceThreshold().fit_transform(x)"
   ]
  },
  {
   "cell_type": "code",
   "execution_count": 10,
   "id": "2db832b8",
   "metadata": {},
   "outputs": [
    {
     "data": {
      "text/plain": [
       "(42000, 708)"
      ]
     },
     "execution_count": 10,
     "metadata": {},
     "output_type": "execute_result"
    }
   ],
   "source": [
    "X.shape"
   ]
  },
  {
   "cell_type": "code",
   "execution_count": 11,
   "id": "8325d300",
   "metadata": {},
   "outputs": [
    {
     "data": {
      "text/plain": [
       "(42000, 784)"
      ]
     },
     "execution_count": 11,
     "metadata": {},
     "output_type": "execute_result"
    }
   ],
   "source": [
    "x.shape"
   ]
  },
  {
   "cell_type": "code",
   "execution_count": 12,
   "id": "1650684e",
   "metadata": {},
   "outputs": [
    {
     "data": {
      "text/plain": [
       "1352.286703180131"
      ]
     },
     "execution_count": 12,
     "metadata": {},
     "output_type": "execute_result"
    }
   ],
   "source": [
    " np.median(x.var().values)"
   ]
  },
  {
   "cell_type": "code",
   "execution_count": 13,
   "id": "6fd0ffe0",
   "metadata": {},
   "outputs": [],
   "source": [
    "x_fsvar = VarianceThreshold(np.median(x.var().values)).fit_transform(x)"
   ]
  },
  {
   "cell_type": "code",
   "execution_count": 13,
   "id": "a0cead72",
   "metadata": {},
   "outputs": [
    {
     "name": "stdout",
     "output_type": "stream",
     "text": [
      "10.9 s ± 185 ms per loop (mean ± std. dev. of 7 runs, 1 loop each)\n"
     ]
    }
   ],
   "source": [
    "%%timeit\n",
    "cvs(RFC(n_estimators=10,random_state=0),x,y,cv = 5).mean()"
   ]
  },
  {
   "cell_type": "code",
   "execution_count": 14,
   "id": "cd3914df",
   "metadata": {},
   "outputs": [
    {
     "name": "stdout",
     "output_type": "stream",
     "text": [
      "9.75 s ± 208 ms per loop (mean ± std. dev. of 7 runs, 1 loop each)\n"
     ]
    }
   ],
   "source": [
    "%%timeit\n",
    "cvs(RFC(n_estimators=10,random_state=0),x_fsvar,y,cv = 5).mean()"
   ]
  },
  {
   "cell_type": "code",
   "execution_count": 15,
   "id": "a6192d16",
   "metadata": {},
   "outputs": [
    {
     "data": {
      "text/plain": [
       "0.9373571428571429"
      ]
     },
     "execution_count": 15,
     "metadata": {},
     "output_type": "execute_result"
    }
   ],
   "source": [
    "cvs(RFC(n_estimators=10,random_state=0),x,y,cv = 5).mean()"
   ]
  },
  {
   "cell_type": "code",
   "execution_count": 16,
   "id": "9e7d1296",
   "metadata": {},
   "outputs": [
    {
     "data": {
      "text/plain": [
       "0.9390476190476191"
      ]
     },
     "execution_count": 16,
     "metadata": {},
     "output_type": "execute_result"
    }
   ],
   "source": [
    "cvs(RFC(n_estimators=10,random_state=0),x_fsvar,y,cv = 5).mean()"
   ]
  },
  {
   "cell_type": "code",
   "execution_count": 17,
   "id": "8e1d7a2c",
   "metadata": {},
   "outputs": [
    {
     "data": {
      "text/plain": [
       "0.9490714285714287"
      ]
     },
     "execution_count": 17,
     "metadata": {},
     "output_type": "execute_result"
    }
   ],
   "source": [
    "cvs(RFC(n_estimators=15,random_state=0),x_fsvar,y,cv = 5).mean()"
   ]
  },
  {
   "cell_type": "code",
   "execution_count": 18,
   "id": "4172f4d3",
   "metadata": {},
   "outputs": [
    {
     "data": {
      "text/plain": [
       "0.9098095238095238"
      ]
     },
     "execution_count": 18,
     "metadata": {},
     "output_type": "execute_result"
    }
   ],
   "source": [
    "cvs(RFC(n_estimators=5,random_state=0),x_fsvar,y,cv = 5).mean()"
   ]
  },
  {
   "cell_type": "code",
   "execution_count": 19,
   "id": "c4aab389",
   "metadata": {},
   "outputs": [
    {
     "data": {
      "text/plain": [
       "0.9535238095238097"
      ]
     },
     "execution_count": 19,
     "metadata": {},
     "output_type": "execute_result"
    }
   ],
   "source": [
    "cvs(RFC(n_estimators=20,random_state=0),x_fsvar,y,cv = 5).mean()"
   ]
  },
  {
   "cell_type": "code",
   "execution_count": 20,
   "id": "1f4a1c64",
   "metadata": {},
   "outputs": [
    {
     "data": {
      "text/plain": [
       "0.9581190476190476"
      ]
     },
     "execution_count": 20,
     "metadata": {},
     "output_type": "execute_result"
    }
   ],
   "source": [
    "cvs(RFC(n_estimators=30,random_state=0),x_fsvar,y,cv = 5).mean()"
   ]
  },
  {
   "cell_type": "code",
   "execution_count": 22,
   "id": "ecb02210",
   "metadata": {},
   "outputs": [],
   "source": [
    "x_fschi = SelectKBest(chi2, k = 300).fit_transform(x_fsvar,y)"
   ]
  },
  {
   "cell_type": "code",
   "execution_count": 23,
   "id": "cbff197e",
   "metadata": {},
   "outputs": [
    {
     "data": {
      "text/plain": [
       "(42000, 300)"
      ]
     },
     "execution_count": 23,
     "metadata": {},
     "output_type": "execute_result"
    }
   ],
   "source": [
    "x_fschi.shape"
   ]
  },
  {
   "cell_type": "code",
   "execution_count": 24,
   "id": "8e25fd67",
   "metadata": {},
   "outputs": [
    {
     "data": {
      "text/plain": [
       "0.9488095238095238"
      ]
     },
     "execution_count": 24,
     "metadata": {},
     "output_type": "execute_result"
    }
   ],
   "source": [
    "cvs(RFC(n_estimators=20,random_state=0),x_fschi,y,cv = 5).mean()"
   ]
  },
  {
   "cell_type": "code",
   "execution_count": 28,
   "id": "e432fbbe",
   "metadata": {},
   "outputs": [
    {
     "data": {
      "text/plain": [
       "<function matplotlib.pyplot.show(close=None, block=None)>"
      ]
     },
     "execution_count": 28,
     "metadata": {},
     "output_type": "execute_result"
    },
    {
     "data": {
      "image/png": "[encoded data removed]",
      "text/plain": [
       "<Figure size 432x288 with 1 Axes>"
      ]
     },
     "metadata": {
      "needs_background": "light"
     },
     "output_type": "display_data"
    }
   ],
   "source": [
    "#learning curve\n",
    "import matplotlib.pyplot as plt\n",
    "\n",
    "score = []\n",
    "for i in range(390,300,-10):\n",
    "    x_fschi = SelectKBest(chi2,k=i).fit_transform(x_fsvar,y)\n",
    "    zz = cvs(RFC(n_estimators=20,random_state=0),x_fschi,y,cv = 5).mean()\n",
    "    score.append(zz)\n",
    "plt.plot(range(390,300,-10),score)\n",
    "plt.show\n"
   ]
  },
  {
   "cell_type": "code",
   "execution_count": 29,
   "id": "33f62fbf",
   "metadata": {},
   "outputs": [],
   "source": [
    "chivalue,pvalue_chi = chi2(x_fsvar,y)"
   ]
  },
  {
   "cell_type": "code",
   "execution_count": 32,
   "id": "4b36d819",
   "metadata": {},
   "outputs": [],
   "source": [
    "k = chivalue.shape[0]-(pvalue_chi>0.05).sum()"
   ]
  },
  {
   "cell_type": "code",
   "execution_count": 33,
   "id": "4bc5feaa",
   "metadata": {},
   "outputs": [
    {
     "name": "stderr",
     "output_type": "stream",
     "text": [
      "E:\\anaconda3\\lib\\site-packages\\sklearn\\utils\\validation.py:70: FutureWarning: Pass k=392 as keyword args. From version 1.0 (renaming of 0.25) passing these as positional arguments will result in an error\n",
      "  warnings.warn(f\"Pass {args_msg} as keyword args. From version \"\n"
     ]
    },
    {
     "data": {
      "text/plain": [
       "0.9535238095238097"
      ]
     },
     "execution_count": 33,
     "metadata": {},
     "output_type": "execute_result"
    }
   ],
   "source": [
    "x_fschi = SelectKBest(chi2, k).fit_transform(x_fsvar,y)\n",
    "cvs(RFC(n_estimators=20,random_state=0),x_fschi,y,cv = 5).mean()"
   ]
  },
  {
   "cell_type": "code",
   "execution_count": 1,
   "id": "86696d42",
   "metadata": {},
   "outputs": [],
   "source": [
    "from sklearn.feature_selection import f_classif"
   ]
  },
  {
   "cell_type": "code",
   "execution_count": 14,
   "id": "839353c9",
   "metadata": {},
   "outputs": [],
   "source": [
    "F, pvalues_f = f_classif(x_fsvar,y)"
   ]
  },
  {
   "cell_type": "code",
   "execution_count": 17,
   "id": "e678b014",
   "metadata": {},
   "outputs": [],
   "source": [
    "k = F.shape[0] - (pvalues_f >0.05).sum()"
   ]
  },
  {
   "cell_type": "code",
   "execution_count": 18,
   "id": "20d2abfb",
   "metadata": {},
   "outputs": [
    {
     "data": {
      "text/plain": [
       "392"
      ]
     },
     "execution_count": 18,
     "metadata": {},
     "output_type": "execute_result"
    }
   ],
   "source": [
    "k"
   ]
  },
  {
   "cell_type": "code",
   "execution_count": 19,
   "id": "d6534abc",
   "metadata": {},
   "outputs": [],
   "source": [
    "#x_fsF = SelectKBest(f_classif, k = ).fit_transform(x_fsvar,y)\n",
    "#cross_val_score(RFC(n_estimators=20),random_state=0),x_fsF,cv=5).mean()"
   ]
  },
  {
   "cell_type": "code",
   "execution_count": 20,
   "id": "4c7fb170",
   "metadata": {},
   "outputs": [],
   "source": [
    "from sklearn.feature_selection import mutual_info_classif as MIC\n",
    "result = MIC(x_fsvar,y)\n",
    "k = result.shape[0]-sum(result <= 0)"
   ]
  },
  {
   "cell_type": "code",
   "execution_count": 21,
   "id": "d20861f1",
   "metadata": {},
   "outputs": [
    {
     "data": {
      "text/plain": [
       "392"
      ]
     },
     "execution_count": 21,
     "metadata": {},
     "output_type": "execute_result"
    }
   ],
   "source": [
    "k"
   ]
  },
  {
   "cell_type": "code",
   "execution_count": 23,
   "id": "66e4f309",
   "metadata": {},
   "outputs": [],
   "source": [
    "from sklearn.feature_selection import SelectFromModel\n",
    "from sklearn.ensemble import RandomForestClassifier as RFC"
   ]
  },
  {
   "cell_type": "code",
   "execution_count": 27,
   "id": "e9fb8f87",
   "metadata": {},
   "outputs": [],
   "source": [
    "RFC_ = RFC(n_estimators =20)#实例化后才能进入SelcetFromModel\n",
    "x_embedded = SelectFromModel(RFC_,threshold= 0.005).fit_transform(x,y)"
   ]
  },
  {
   "cell_type": "code",
   "execution_count": 28,
   "id": "d59296da",
   "metadata": {},
   "outputs": [
    {
     "data": {
      "text/plain": [
       "(42000, 48)"
      ]
     },
     "execution_count": 28,
     "metadata": {},
     "output_type": "execute_result"
    }
   ],
   "source": [
    "x_embedded.shape"
   ]
  },
  {
   "cell_type": "code",
   "execution_count": 31,
   "id": "bcd99a4a",
   "metadata": {},
   "outputs": [
    {
     "data": {
      "text/plain": [
       "<function matplotlib.pyplot.show(close=None, block=None)>"
      ]
     },
     "execution_count": 31,
     "metadata": {},
     "output_type": "execute_result"
    },
    {
     "data": {
      "image/png": "[encoded data removed]",
      "text/plain": [
       "<Figure size 432x288 with 1 Axes>"
      ]
     },
     "metadata": {
      "needs_background": "light"
     },
     "output_type": "display_data"
    }
   ],
   "source": [
    "import numpy as np\n",
    "import matplotlib.pyplot as plt\n",
    "\n",
    "RFC_.fit(x,y).feature_importances_\n",
    "\n",
    "threshold = np.linspace(0,(RFC_.fit(x,y).feature_importances_).max(),20)\n",
    "\n",
    "score=[]\n",
    "for i in threshold:\n",
    "    x_embedded = SelectFromModel(RFC_,threshold= i).fit_transform(x,y)\n",
    "    once = cvs(RFC_, x_embedded,y,cv=5).mean()\n",
    "    score.append(once)\n",
    "plt.plot(threshold,score)\n",
    "plt.show"
   ]
  },
  {
   "cell_type": "code",
   "execution_count": 33,
   "id": "92925347",
   "metadata": {},
   "outputs": [
    {
     "data": {
      "image/png": "[encoded data removed]",
      "text/plain": [
       "<Figure size 720x360 with 1 Axes>"
      ]
     },
     "metadata": {
      "needs_background": "light"
     },
     "output_type": "display_data"
    }
   ],
   "source": [
    "score2 = []\n",
    "for i in np.linspace(0,0.00134,10):\n",
    "    x_embedded = SelectFromModel(RFC_,threshold = i).fit_transform(x,y)\n",
    "    once = cvs(RFC_,x_embedded,y,cv=5).mean()\n",
    "    score2.append(once)\n",
    "plt.figure(figsize = [10,5])\n",
    "plt.plot(np.linspace(0,0.00134,10),score2)\n",
    "plt.xticks(np.linspace(0,0.00134,10))\n",
    "plt.show()"
   ]
  },
  {
   "cell_type": "code",
   "execution_count": 34,
   "id": "b8db1cf4",
   "metadata": {},
   "outputs": [
    {
     "data": {
      "text/plain": [
       "(42000, 247)"
      ]
     },
     "execution_count": 34,
     "metadata": {},
     "output_type": "execute_result"
    }
   ],
   "source": [
    "x_embedded.shape"
   ]
  },
  {
   "cell_type": "code",
   "execution_count": 35,
   "id": "d0b01c69",
   "metadata": {},
   "outputs": [
    {
     "data": {
      "text/plain": [
       "0.9527142857142857"
      ]
     },
     "execution_count": 35,
     "metadata": {},
     "output_type": "execute_result"
    }
   ],
   "source": [
    "x_embedded = SelectFromModel(RFC_,threshold= 0.000149).fit_transform(x,y)\n",
    "cvs(RFC_,x_embedded,y,cv=5).mean()"
   ]
  },
  {
   "cell_type": "code",
   "execution_count": 37,
   "id": "dc476ccf",
   "metadata": {},
   "outputs": [],
   "source": [
    "score=[]\n",
    "for i in range(0,200,10):\n",
    "    rfc = RFC(n_estimators = i+1)\n",
    "    zz = cvs(rfc,x_embedded,y,cv=10).mean()\n",
    "    score.append(zz)\n"
   ]
  },
  {
   "cell_type": "code",
   "execution_count": 38,
   "id": "27738c82",
   "metadata": {},
   "outputs": [
    {
     "data": {
      "text/plain": [
       "<function matplotlib.pyplot.show(close=None, block=None)>"
      ]
     },
     "execution_count": 38,
     "metadata": {},
     "output_type": "execute_result"
    },
    {
     "data": {
      "image/png": "[encoded data removed]",
      "text/plain": [
       "<Figure size 432x288 with 1 Axes>"
      ]
     },
     "metadata": {
      "needs_background": "light"
     },
     "output_type": "display_data"
    }
   ],
   "source": [
    "plt.plot(range(1,201,10),score)\n",
    "plt.show"
   ]
  },
  {
   "cell_type": "code",
   "execution_count": 41,
   "id": "571efe4c",
   "metadata": {},
   "outputs": [
    {
     "name": "stdout",
     "output_type": "stream",
     "text": [
      "0.9674285714285714 17\n"
     ]
    }
   ],
   "source": [
    "print(max(score),([*range(1,201)][score.index(max(score))]))"
   ]
  },
  {
   "cell_type": "code",
   "execution_count": 43,
   "id": "28fc2a03",
   "metadata": {},
   "outputs": [
    {
     "data": {
      "text/plain": [
       "0.965595238095238"
      ]
     },
     "execution_count": 43,
     "metadata": {},
     "output_type": "execute_result"
    }
   ],
   "source": [
    "rfc = RFC(n_estimators = 171)\n",
    "cvs(rfc,x_embedded,y,cv=5).mean()"
   ]
  },
  {
   "cell_type": "code",
   "execution_count": 44,
   "id": "e3a08635",
   "metadata": {},
   "outputs": [],
   "source": [
    "from sklearn.feature_selection import RFE"
   ]
  },
  {
   "cell_type": "code",
   "execution_count": 46,
   "id": "cb4cb8c2",
   "metadata": {},
   "outputs": [],
   "source": [
    "RFC_ = RFC(n_estimators = 171)\n",
    "selector = RFE(RFC_, n_features_to_select = 340, step=50).fit(x,y)"
   ]
  },
  {
   "cell_type": "code",
   "execution_count": 47,
   "id": "f4455481",
   "metadata": {},
   "outputs": [
    {
     "data": {
      "text/plain": [
       "340"
      ]
     },
     "execution_count": 47,
     "metadata": {},
     "output_type": "execute_result"
    }
   ],
   "source": [
    "selector.support_.sum()"
   ]
  },
  {
   "cell_type": "code",
   "execution_count": 48,
   "id": "5b7dd6ca",
   "metadata": {},
   "outputs": [
    {
     "data": {
      "text/plain": [
       "0.9644523809523811"
      ]
     },
     "execution_count": 48,
     "metadata": {},
     "output_type": "execute_result"
    }
   ],
   "source": [
    "x_wrapper = selector.transform(x)\n",
    "cvs(RFC_,x_wrapper,y,cv=5).mean()"
   ]
  },
  {
   "cell_type": "code",
   "execution_count": null,
   "id": "481d34f3",
   "metadata": {},
   "outputs": [],
   "source": []
  }
 ],
 "metadata": {
  "kernelspec": {
   "display_name": "Python 3",
   "language": "python",
   "name": "python3"
  },
  "language_info": {
   "codemirror_mode": {
    "name": "ipython",
    "version": 3
   },
   "file_extension": ".py",
   "mimetype": "text/x-python",
   "name": "python",
   "nbconvert_exporter": "python",
   "pygments_lexer": "ipython3",
   "version": "3.8.8"
  }
 },
 "nbformat": 4,
 "nbformat_minor": 5
}
